{
 "cells": [
  {
   "cell_type": "code",
   "execution_count": null,
   "metadata": {},
   "outputs": [
    {
     "ename": "",
     "evalue": "",
     "output_type": "error",
     "traceback": [
      "\u001b[1;31mRunning cells with 'Python 3.9.12 ('base')' requires ipykernel package.\n",
      "\u001b[1;31mRun the following command to install 'ipykernel' into the Python environment. \n",
      "\u001b[1;31mCommand: 'conda install -n base ipykernel --update-deps --force-reinstall'"
     ]
    }
   ],
   "source": [
    "#magic function to update files automatically\n",
    "%load_ext autoreload\n",
    "%autoreload 2"
   ]
  },
  {
   "cell_type": "code",
   "execution_count": null,
   "metadata": {},
   "outputs": [],
   "source": [
    "def collision_count(values):\n",
    "    counter = Counter(values)\n",
    "    return sum([v for v in counter.values() if v > 1]) / len(values)\n",
    "import matplotlib.pyplot as plt\n",
    "untrained_model_value = 0.1\n",
    "trained_model_value = 1\n",
    "\n",
    "#plot values in bar plot\n",
    "plt.bar([\"Untrained model\", \"Trained model\"], [untrained_model_value, trained_model_value], color=[\"orange\", \"blue\"])\n",
    "plt.ylabel(\"Collision Probability\")\n",
    "plt.title(\"Collision Probability conditioned by model training\")\n"
   ]
  },
  {
   "cell_type": "code",
   "execution_count": null,
   "metadata": {},
   "outputs": [
    {
     "ename": "",
     "evalue": "",
     "output_type": "error",
     "traceback": [
      "\u001b[1;31mRunning cells with 'Python 3.9.12 ('base')' requires ipykernel package.\n",
      "\u001b[1;31mRun the following command to install 'ipykernel' into the Python environment. \n",
      "\u001b[1;31mCommand: 'conda install -n base ipykernel --update-deps --force-reinstall'"
     ]
    }
   ],
   "source": [
    "#all needed imports\n",
    "import numpy as np\n",
    "import json\n",
    "import matplotlib.pyplot as plt\n",
    "import seaborn as sns\n",
    "import pandas as pd\n",
    "import os\n",
    "from scipy import stats\n",
    "from utils import Experiemnt"
   ]
  },
  {
   "cell_type": "markdown",
   "metadata": {},
   "source": [
    "# Line analysis"
   ]
  },
  {
   "cell_type": "markdown",
   "metadata": {},
   "source": [
    "#### Load Data"
   ]
  },
  {
   "cell_type": "code",
   "execution_count": 3,
   "metadata": {},
   "outputs": [],
   "source": [
    "results_dir = \"results/results_grid_test\"\n",
    "#load all experiments\n",
    "experiments = [Experiemnt(results_dir + x) for x in os.listdir(results_dir)]"
   ]
  },
  {
   "cell_type": "code",
   "execution_count": 4,
   "metadata": {},
   "outputs": [
    {
     "data": {
      "text/plain": [
       "dict_keys(['collision_probability', 'values', 'num_nodes', 'edge_prob', 'network_size', 'seed', 'num_permutations'])"
      ]
     },
     "execution_count": 4,
     "metadata": {},
     "output_type": "execute_result"
    }
   ],
   "source": [
    "experiments[0].__dict__.keys()"
   ]
  },
  {
   "cell_type": "markdown",
   "metadata": {},
   "source": [
    "#### Find Basic Configuration "
   ]
  },
  {
   "cell_type": "code",
   "execution_count": 5,
   "metadata": {},
   "outputs": [],
   "source": [
    "# get mode of each paramter\n",
    "\n",
    "params = [\"num_nodes\", \"edge_prob\", \"network_size\", \"seed\", \"num_permutations\"]\n",
    "\n",
    "config = {}\n",
    "\n",
    "for param_name in params:\n",
    "    param_values = np.array([x.__dict__[param_name] for x in experiments])\n",
    "    param_most_freq = stats.mode(param_values)[0]\n",
    "\n",
    "    config[param_name] = param_most_freq"
   ]
  },
  {
   "cell_type": "markdown",
   "metadata": {},
   "source": [
    "#### Show results"
   ]
  },
  {
   "cell_type": "code",
   "execution_count": 6,
   "metadata": {},
   "outputs": [],
   "source": [
    "def get_line_results(experiments, basic_config, changed_param_name):\n",
    "    results = {}\n",
    "    for param_value in np.unique([x.__dict__[changed_param_name] for x in experiments]):\n",
    "        config = basic_config.copy()\n",
    "        config[changed_param_name] = param_value\n",
    "        #read collision probability from experiments with given config\n",
    "        results[param_value] = [x.collision_probability for x in experiments if all([x.__dict__[param_name] == config[param_name] for param_name in config.keys()])][0]\n",
    "    return results"
   ]
  },
  {
   "cell_type": "code",
   "execution_count": 7,
   "metadata": {},
   "outputs": [
    {
     "data": {
      "image/png": "[encoded data removed]",
      "text/plain": [
       "<Figure size 432x288 with 1 Axes>"
      ]
     },
     "metadata": {
      "needs_background": "light"
     },
     "output_type": "display_data"
    },
    {
     "data": {
      "image/png": "[encoded data removed]",
      "text/plain": [
       "<Figure size 432x288 with 1 Axes>"
      ]
     },
     "metadata": {
      "needs_background": "light"
     },
     "output_type": "display_data"
    },
    {
     "data": {
      "image/png": "[encoded data removed]",
      "text/plain": [
       "<Figure size 432x288 with 1 Axes>"
      ]
     },
     "metadata": {
      "needs_background": "light"
     },
     "output_type": "display_data"
    }
   ],
   "source": [
    "configurable_params = [\"num_nodes\", \"edge_prob\", \"network_size\"]\n",
    "\n",
    "for param_name in configurable_params:\n",
    "    param_change_results = get_line_results(experiments, config, param_name)\n",
    "    # plot collision probability by param_value\n",
    "    plt.scatter(list(param_change_results.keys()), list(param_change_results.values()))\n",
    "    # TODO: add x label and y label\n",
    "    plt.xlabel(param_name)\n",
    "    plt.ylabel(\"collision probability\")\n",
    "    plt.show()"
   ]
  },
  {
   "cell_type": "markdown",
   "metadata": {},
   "source": [
    "# Grid Experiments"
   ]
  },
  {
   "cell_type": "markdown",
   "metadata": {},
   "source": [
    "#### Load Data"
   ]
  },
  {
   "cell_type": "code",
   "execution_count": 8,
   "metadata": {},
   "outputs": [],
   "source": [
    "results_dir = \"results_grid_test/\"\n",
    "#load all experiments\n",
    "experiments = [Experiemnt(results_dir + x) for x in os.listdir(results_dir)]"
   ]
  },
  {
   "cell_type": "markdown",
   "metadata": {},
   "source": [
    "#### Show results"
   ]
  },
  {
   "cell_type": "code",
   "execution_count": 9,
   "metadata": {},
   "outputs": [],
   "source": [
    "def get_grid_results(experiments, param_name):\n",
    "    results = {}\n",
    "    for param_value in np.unique([x.__dict__[param_name] for x in experiments]):\n",
    "        results[param_value] = np.mean([x.collision_probability for x in experiments if x.__dict__[param_name] == param_value])\n",
    "    return results\n"
   ]
  },
  {
   "cell_type": "code",
   "execution_count": 10,
   "metadata": {},
   "outputs": [
    {
     "data": {
      "image/png": "[encoded data removed]",
      "text/plain": [
       "<Figure size 432x288 with 1 Axes>"
      ]
     },
     "metadata": {
      "needs_background": "light"
     },
     "output_type": "display_data"
    },
    {
     "data": {
      "image/png": "[encoded data removed]",
      "text/plain": [
       "<Figure size 432x288 with 1 Axes>"
      ]
     },
     "metadata": {
      "needs_background": "light"
     },
     "output_type": "display_data"
    },
    {
     "data": {
      "image/png": "[encoded data removed]",
      "text/plain": [
       "<Figure size 432x288 with 1 Axes>"
      ]
     },
     "metadata": {
      "needs_background": "light"
     },
     "output_type": "display_data"
    }
   ],
   "source": [
    "configurable_params = [\"num_nodes\", \"edge_prob\", \"network_size\"]\n",
    "\n",
    "for param_name in configurable_params:\n",
    "    param_change_results = get_grid_results(experiments, param_name)\n",
    "    # plot collision probability by param_value\n",
    "    plt.scatter(list(param_change_results.keys()), list(param_change_results.values()))\n",
    "    # TODO: add x label and y label\n",
    "    plt.xlabel(param_name)\n",
    "    plt.ylabel(\"collision probability\")\n",
    "    plt.show()"
   ]
  },
  {
   "cell_type": "code",
   "execution_count": null,
   "metadata": {},
   "outputs": [],
   "source": [
    "import matplotlib.pyplot as plt\n",
    "untrained_model_value = 0.1\n",
    "trained_model_value = 1\n",
    "#\n",
    "\n",
    "plt.bar\n",
    "\n"
   ]
  }
 ],
 "metadata": {
  "kernelspec": {
   "display_name": "Python 3.9.12 ('base')",
   "language": "python",
   "name": "python3"
  },
  "language_info": {
   "codemirror_mode": {
    "name": "ipython",
    "version": 3
   },
   "file_extension": ".py",
   "mimetype": "text/x-python",
   "name": "python",
   "nbconvert_exporter": "python",
   "pygments_lexer": "ipython3",
   "version": "3.9.12"
  },
  "orig_nbformat": 4,
  "vscode": {
   "interpreter": {
    "hash": "84aa13781633ea431d649cffcdbd5df7926f27c3c2b969706368db5301c72280"
   }
  }
 },
 "nbformat": 4,
 "nbformat_minor": 2
}
